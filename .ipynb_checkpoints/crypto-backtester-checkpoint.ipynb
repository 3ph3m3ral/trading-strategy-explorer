{
 "cells": [
  {
   "cell_type": "markdown",
   "metadata": {},
   "source": [
    "## Trading strategy exploration and backtesting project with EOS vs Bitcoin \n",
    "\n",
    "#### Strategy \n",

    "\n",
    "1. Trigger for opening a position\n",
    "- Given at least 2 positive days (2 high volume green bars) and with a large body, which must be before a 1D red one.\n",
    "- The red candle must have a range R which can be of different nature:\n",
    "    - R = Fibonacci price range at the level below 0.5 to the level above.\n",
    "    - R = Red candle body / (green candle body 1 + green candle body 2)\n",
    "\n",
    " 2. Open Position\n",
    "    When the trigger is activated:\n",
    "  - BUY BTC: Spot Binance account\n",
    "  - OPEN Short position with Altcoin: Perpetual Binance Futures\n",
    "  \n",
    " 3. Trigger for closing a position\n",
    "   - Hit Take Profit (TP) or Stop Loss (SL)\n",
    "   - Close for too long past\n",
    "\n",
    " 4. Close Position\n",
    "  - SELL BTC: Binance Spot Account\n",
    "  - CLOSE Short position with Altcoin: Perpetual Binance Future\n",
    "\n",
    "\n",
    "### Strategy features \n",
    "1. For the short you earn 0.15% every 8h. And that would be the only gain, since you also buy BTC (spot account) together.\n",
    "2. After altcoins (vs BTC) go up a lot, they usually go down after a peak.\n",
    "3. Timeframe 4h / 1D\n",
    "\n",
    "\n",
    "### Critical points of this strategy \n",
    "- BTC goes down and the altcoin goes up\n",
    "- I don't know when to close\n",
    "- Sizing shorts, and if they can be multi shorts\n",
    "\n",
    "### Improve  \n",
    "- TP / SL\n",
    "- Max time open operation\n",
    "- Red candle body range for the strategy trigger\n",
    "\n",
    "### Theoretical output  \n",
    "- The average closing time of trades given an input, Confidence interval.\n",
    "- The optimal range of the body of the red candle "
   ]
  },
  {
   "cell_type": "markdown",
   "metadata": {},
   "source": [
    "##  Analysis with Python 3 \n",
    "\n",
    "###  Load data "
   ]
  },
  {
   "cell_type": "code",
   "execution_count": 1,
   "metadata": {},
   "outputs": [],
   "source": [
    "import numpy as np\n",
    "import pandas as pd\n",
    "import sys\n",
    "import matplotlib.pyplot as plt\n",
    "import seaborn as sns\n",
    "%matplotlib inline"
   ]
  },
  {
   "cell_type": "code",
   "execution_count": 2,
   "metadata": {},
   "outputs": [
    {
     "data": {
      "text/plain": [
       "'/home/moebius/Documents/PROJECTS/EOS-bitcoin-strategy'"
      ]
     },
     "execution_count": 2,
     "metadata": {},
     "output_type": "execute_result"
    }
   ],
   "source": [
    "file_path = sys.path[0]\n",
    "file_path"
   ]
  },
  {
   "cell_type": "code",
   "execution_count": 3,
   "metadata": {},
   "outputs": [],
   "source": [
    "df = pd.read_csv(file_path+\"/EOS-BTC-Binance.csv\",\n",
    "                     index_col=0, \n",
    "                     parse_dates=True,\n",
    "                     infer_datetime_format=True)"
   ]
  },
  {
   "cell_type": "markdown",
   "metadata": {},
   "source": [
    "\n",
    "## Exploratory analysis "
   ]
  },
  {
   "cell_type": "code",
   "execution_count": 4,
   "metadata": {},
   "outputs": [
    {
     "data": {
      "text/html": [
       "<div>\n",
       "<style scoped>\n",
       "    .dataframe tbody tr th:only-of-type {\n",
       "        vertical-align: middle;\n",
       "    }\n",
       "\n",
       "    .dataframe tbody tr th {\n",
       "        vertical-align: top;\n",
       "    }\n",
       "\n",
       "    .dataframe thead th {\n",
       "        text-align: right;\n",
       "    }\n",
       "</style>\n",
       "<table border=\"1\" class=\"dataframe\">\n",
       "  <thead>\n",
       "    <tr style=\"text-align: right;\">\n",
       "      <th></th>\n",
       "      <th>date</th>\n",
       "      <th>symbol</th>\n",
       "      <th>open</th>\n",
       "      <th>high</th>\n",
       "      <th>low</th>\n",
       "      <th>close</th>\n",
       "      <th>Volume EOS</th>\n",
       "      <th>Volume BTC</th>\n",
       "      <th>tradecount</th>\n",
       "    </tr>\n",
       "    <tr>\n",
       "      <th>unix</th>\n",
       "      <th></th>\n",
       "      <th></th>\n",
       "      <th></th>\n",
       "      <th></th>\n",
       "      <th></th>\n",
       "      <th></th>\n",
       "      <th></th>\n",
       "      <th></th>\n",
       "      <th></th>\n",
       "    </tr>\n",
       "  </thead>\n",
       "  <tbody>\n",
       "    <tr>\n",
       "      <th>1615852800000</th>\n",
       "      <td>2021-03-16 00:00:00</td>\n",
       "      <td>EOS/BTC</td>\n",
       "      <td>0.000069</td>\n",
       "      <td>0.000069</td>\n",
       "      <td>0.000069</td>\n",
       "      <td>0.000069</td>\n",
       "      <td>21863.05</td>\n",
       "      <td>1.501624</td>\n",
       "      <td>317</td>\n",
       "    </tr>\n",
       "    <tr>\n",
       "      <th>1615766400000</th>\n",
       "      <td>2021-03-15 00:00:00</td>\n",
       "      <td>EOS/BTC</td>\n",
       "      <td>0.000067</td>\n",
       "      <td>0.000069</td>\n",
       "      <td>0.000065</td>\n",
       "      <td>0.000069</td>\n",
       "      <td>4971908.73</td>\n",
       "      <td>334.720452</td>\n",
       "      <td>27538</td>\n",
       "    </tr>\n",
       "    <tr>\n",
       "      <th>1615680000000</th>\n",
       "      <td>2021-03-14 00:00:00</td>\n",
       "      <td>EOS/BTC</td>\n",
       "      <td>0.000070</td>\n",
       "      <td>0.000072</td>\n",
       "      <td>0.000067</td>\n",
       "      <td>0.000067</td>\n",
       "      <td>3455669.25</td>\n",
       "      <td>236.825335</td>\n",
       "      <td>22549</td>\n",
       "    </tr>\n",
       "    <tr>\n",
       "      <th>1615593600000</th>\n",
       "      <td>2021-03-13 00:00:00</td>\n",
       "      <td>EOS/BTC</td>\n",
       "      <td>0.000066</td>\n",
       "      <td>0.000072</td>\n",
       "      <td>0.000065</td>\n",
       "      <td>0.000070</td>\n",
       "      <td>4475482.78</td>\n",
       "      <td>304.383043</td>\n",
       "      <td>27466</td>\n",
       "    </tr>\n",
       "    <tr>\n",
       "      <th>1615507200000</th>\n",
       "      <td>2021-03-12 00:00:00</td>\n",
       "      <td>EOS/BTC</td>\n",
       "      <td>0.000069</td>\n",
       "      <td>0.000070</td>\n",
       "      <td>0.000066</td>\n",
       "      <td>0.000066</td>\n",
       "      <td>4433265.61</td>\n",
       "      <td>300.109028</td>\n",
       "      <td>23628</td>\n",
       "    </tr>\n",
       "  </tbody>\n",
       "</table>\n",
       "</div>"
      ],
      "text/plain": [
       "                              date   symbol      open      high       low  \\\n",
       "unix                                                                        \n",
       "1615852800000  2021-03-16 00:00:00  EOS/BTC  0.000069  0.000069  0.000069   \n",
       "1615766400000  2021-03-15 00:00:00  EOS/BTC  0.000067  0.000069  0.000065   \n",
       "1615680000000  2021-03-14 00:00:00  EOS/BTC  0.000070  0.000072  0.000067   \n",
       "1615593600000  2021-03-13 00:00:00  EOS/BTC  0.000066  0.000072  0.000065   \n",
       "1615507200000  2021-03-12 00:00:00  EOS/BTC  0.000069  0.000070  0.000066   \n",
       "\n",
       "                  close  Volume EOS  Volume BTC  tradecount  \n",
       "unix                                                         \n",
       "1615852800000  0.000069    21863.05    1.501624         317  \n",
       "1615766400000  0.000069  4971908.73  334.720452       27538  \n",
       "1615680000000  0.000067  3455669.25  236.825335       22549  \n",
       "1615593600000  0.000070  4475482.78  304.383043       27466  \n",
       "1615507200000  0.000066  4433265.61  300.109028       23628  "
      ]
     },
     "execution_count": 4,
     "metadata": {},
     "output_type": "execute_result"
    }
   ],
   "source": [
    "df.head()"
   ]
  },
  {
   "cell_type": "code",
   "execution_count": 5,
   "metadata": {},
   "outputs": [
    {
     "data": {
      "text/html": [
       "<div>\n",
       "<style scoped>\n",
       "    .dataframe tbody tr th:only-of-type {\n",
       "        vertical-align: middle;\n",
       "    }\n",
       "\n",
       "    .dataframe tbody tr th {\n",
       "        vertical-align: top;\n",
       "    }\n",
       "\n",
       "    .dataframe thead th {\n",
       "        text-align: right;\n",
       "    }\n",
       "</style>\n",
       "<table border=\"1\" class=\"dataframe\">\n",
       "  <thead>\n",
       "    <tr style=\"text-align: right;\">\n",
       "      <th></th>\n",
       "      <th>count</th>\n",
       "      <th>mean</th>\n",
       "      <th>std</th>\n",
       "      <th>min</th>\n",
       "      <th>25%</th>\n",
       "      <th>50%</th>\n",
       "      <th>75%</th>\n",
       "      <th>max</th>\n",
       "    </tr>\n",
       "  </thead>\n",
       "  <tbody>\n",
       "    <tr>\n",
       "      <th>open</th>\n",
       "      <td>103.0</td>\n",
       "      <td>9.596019e-05</td>\n",
       "      <td>2.623371e-05</td>\n",
       "      <td>0.000066</td>\n",
       "      <td>7.750000e-05</td>\n",
       "      <td>8.550000e-05</td>\n",
       "      <td>1.013000e-04</td>\n",
       "      <td>1.584000e-04</td>\n",
       "    </tr>\n",
       "    <tr>\n",
       "      <th>high</th>\n",
       "      <td>103.0</td>\n",
       "      <td>9.968738e-05</td>\n",
       "      <td>2.591340e-05</td>\n",
       "      <td>0.000069</td>\n",
       "      <td>8.075000e-05</td>\n",
       "      <td>9.170000e-05</td>\n",
       "      <td>1.072000e-04</td>\n",
       "      <td>1.625000e-04</td>\n",
       "    </tr>\n",
       "    <tr>\n",
       "      <th>low</th>\n",
       "      <td>103.0</td>\n",
       "      <td>9.155631e-05</td>\n",
       "      <td>2.578695e-05</td>\n",
       "      <td>0.000065</td>\n",
       "      <td>7.515000e-05</td>\n",
       "      <td>8.090000e-05</td>\n",
       "      <td>9.285000e-05</td>\n",
       "      <td>1.536000e-04</td>\n",
       "    </tr>\n",
       "    <tr>\n",
       "      <th>close</th>\n",
       "      <td>103.0</td>\n",
       "      <td>9.509223e-05</td>\n",
       "      <td>2.562799e-05</td>\n",
       "      <td>0.000066</td>\n",
       "      <td>7.735000e-05</td>\n",
       "      <td>8.510000e-05</td>\n",
       "      <td>1.000000e-04</td>\n",
       "      <td>1.572000e-04</td>\n",
       "    </tr>\n",
       "    <tr>\n",
       "      <th>Volume EOS</th>\n",
       "      <td>103.0</td>\n",
       "      <td>6.901781e+06</td>\n",
       "      <td>5.068901e+06</td>\n",
       "      <td>21863.050000</td>\n",
       "      <td>3.563374e+06</td>\n",
       "      <td>5.375000e+06</td>\n",
       "      <td>8.873722e+06</td>\n",
       "      <td>2.793215e+07</td>\n",
       "    </tr>\n",
       "    <tr>\n",
       "      <th>Volume BTC</th>\n",
       "      <td>103.0</td>\n",
       "      <td>6.245344e+02</td>\n",
       "      <td>4.559379e+02</td>\n",
       "      <td>1.501624</td>\n",
       "      <td>2.950930e+02</td>\n",
       "      <td>4.541848e+02</td>\n",
       "      <td>8.585020e+02</td>\n",
       "      <td>2.368061e+03</td>\n",
       "    </tr>\n",
       "    <tr>\n",
       "      <th>tradecount</th>\n",
       "      <td>103.0</td>\n",
       "      <td>3.748917e+04</td>\n",
       "      <td>2.514294e+04</td>\n",
       "      <td>317.000000</td>\n",
       "      <td>2.135100e+04</td>\n",
       "      <td>2.939700e+04</td>\n",
       "      <td>4.850800e+04</td>\n",
       "      <td>1.148760e+05</td>\n",
       "    </tr>\n",
       "  </tbody>\n",
       "</table>\n",
       "</div>"
      ],
      "text/plain": [
       "            count          mean           std           min           25%  \\\n",
       "open        103.0  9.596019e-05  2.623371e-05      0.000066  7.750000e-05   \n",
       "high        103.0  9.968738e-05  2.591340e-05      0.000069  8.075000e-05   \n",
       "low         103.0  9.155631e-05  2.578695e-05      0.000065  7.515000e-05   \n",
       "close       103.0  9.509223e-05  2.562799e-05      0.000066  7.735000e-05   \n",
       "Volume EOS  103.0  6.901781e+06  5.068901e+06  21863.050000  3.563374e+06   \n",
       "Volume BTC  103.0  6.245344e+02  4.559379e+02      1.501624  2.950930e+02   \n",
       "tradecount  103.0  3.748917e+04  2.514294e+04    317.000000  2.135100e+04   \n",
       "\n",
       "                     50%           75%           max  \n",
       "open        8.550000e-05  1.013000e-04  1.584000e-04  \n",
       "high        9.170000e-05  1.072000e-04  1.625000e-04  \n",
       "low         8.090000e-05  9.285000e-05  1.536000e-04  \n",
       "close       8.510000e-05  1.000000e-04  1.572000e-04  \n",
       "Volume EOS  5.375000e+06  8.873722e+06  2.793215e+07  \n",
       "Volume BTC  4.541848e+02  8.585020e+02  2.368061e+03  \n",
       "tradecount  2.939700e+04  4.850800e+04  1.148760e+05  "
      ]
     },
     "execution_count": 5,
     "metadata": {},
     "output_type": "execute_result"
    }
   ],
   "source": [
    "df.describe().transpose()"
   ]
  },
  {
   "cell_type": "code",
   "execution_count": 6,
   "metadata": {},
   "outputs": [
    {
     "name": "stdout",
     "output_type": "stream",
     "text": [
      "['date', 'symbol', 'open', 'high', 'low', 'close', 'Volume EOS', 'Volume BTC', 'tradecount']\n"
     ]
    }
   ],
   "source": [
    "cols = [i for i in list(df.columns)] # show me all the columns\n",
    "print(cols)"
   ]
  },
  {
   "cell_type": "code",
   "execution_count": 7,
   "metadata": {},
   "outputs": [
    {
     "data": {
      "text/plain": [
       "date          0\n",
       "symbol        0\n",
       "open          0\n",
       "high          0\n",
       "low           0\n",
       "close         0\n",
       "Volume EOS    0\n",
       "Volume BTC    0\n",
       "tradecount    0\n",
       "dtype: int64"
      ]
     },
     "execution_count": 7,
     "metadata": {},
     "output_type": "execute_result"
    }
   ],
   "source": [
    "df.isna().sum() "
   ]
  },
  {
   "cell_type": "markdown",
   "metadata": {},
   "source": [
    "\n",
    "## Data Preprocessing"
   ]
  },
  {
   "cell_type": "code",
   "execution_count": 8,
   "metadata": {},
   "outputs": [],
   "source": [
    "df = df.drop(['symbol'],axis=1)\n",
    "df = df.drop(['tradecount'],axis=1)"
   ]
  },
  {
   "cell_type": "code",
   "execution_count": 9,
   "metadata": {},
   "outputs": [],
   "source": [
    "# We have daily candle, so we can remove, hours, minutes and seconds from our data\n",
    "df['date']=df['date'].apply(lambda x: str(x).replace('00:00:00',''))"
   ]
  },
  {
   "cell_type": "code",
   "execution_count": 10,
   "metadata": {},
   "outputs": [],
   "source": [
    "df=df.set_index('date')"
   ]
  },
  {
   "cell_type": "code",
   "execution_count": 11,
   "metadata": {
    "scrolled": false
   },
   "outputs": [
    {
     "data": {
      "text/html": [
       "<div>\n",
       "<style scoped>\n",
       "    .dataframe tbody tr th:only-of-type {\n",
       "        vertical-align: middle;\n",
       "    }\n",
       "\n",
       "    .dataframe tbody tr th {\n",
       "        vertical-align: top;\n",
       "    }\n",
       "\n",
       "    .dataframe thead th {\n",
       "        text-align: right;\n",
       "    }\n",
       "</style>\n",
       "<table border=\"1\" class=\"dataframe\">\n",
       "  <thead>\n",
       "    <tr style=\"text-align: right;\">\n",
       "      <th></th>\n",
       "      <th>open</th>\n",
       "      <th>high</th>\n",
       "      <th>low</th>\n",
       "      <th>close</th>\n",
       "      <th>Volume EOS</th>\n",
       "      <th>Volume BTC</th>\n",
       "    </tr>\n",
       "    <tr>\n",
       "      <th>date</th>\n",
       "      <th></th>\n",
       "      <th></th>\n",
       "      <th></th>\n",
       "      <th></th>\n",
       "      <th></th>\n",
       "      <th></th>\n",
       "    </tr>\n",
       "  </thead>\n",
       "  <tbody>\n",
       "    <tr>\n",
       "      <th>2021-03-16</th>\n",
       "      <td>0.000069</td>\n",
       "      <td>0.000069</td>\n",
       "      <td>0.000069</td>\n",
       "      <td>0.000069</td>\n",
       "      <td>21863.05</td>\n",
       "      <td>1.501624</td>\n",
       "    </tr>\n",
       "  </tbody>\n",
       "</table>\n",
       "</div>"
      ],
      "text/plain": [
       "                 open      high       low     close  Volume EOS  Volume BTC\n",
       "date                                                                       \n",
       "2021-03-16   0.000069  0.000069  0.000069  0.000069    21863.05    1.501624"
      ]
     },
     "execution_count": 11,
     "metadata": {},
     "output_type": "execute_result"
    }
   ],
   "source": [
    "df.head(1)"
   ]
  },
  {
   "cell_type": "markdown",
   "metadata": {},
   "source": [
    "My first value is the last one in time order, so I have to reorder my dataset."
   ]
  },
  {
   "cell_type": "code",
   "execution_count": 12,
   "metadata": {},
   "outputs": [],
   "source": [
    "df2 = df.sort_values(['date']) # SORT BY DATE"
   ]
  },
  {
   "cell_type": "code",
   "execution_count": 13,
   "metadata": {},
   "outputs": [
    {
     "data": {
      "text/html": [
       "<div>\n",
       "<style scoped>\n",
       "    .dataframe tbody tr th:only-of-type {\n",
       "        vertical-align: middle;\n",
       "    }\n",
       "\n",
       "    .dataframe tbody tr th {\n",
       "        vertical-align: top;\n",
       "    }\n",
       "\n",
       "    .dataframe thead th {\n",
       "        text-align: right;\n",
       "    }\n",
       "</style>\n",
       "<table border=\"1\" class=\"dataframe\">\n",
       "  <thead>\n",
       "    <tr style=\"text-align: right;\">\n",
       "      <th></th>\n",
       "      <th>open</th>\n",
       "      <th>high</th>\n",
       "      <th>low</th>\n",
       "      <th>close</th>\n",
       "      <th>Volume EOS</th>\n",
       "      <th>Volume BTC</th>\n",
       "    </tr>\n",
       "    <tr>\n",
       "      <th>date</th>\n",
       "      <th></th>\n",
       "      <th></th>\n",
       "      <th></th>\n",
       "      <th></th>\n",
       "      <th></th>\n",
       "      <th></th>\n",
       "    </tr>\n",
       "  </thead>\n",
       "  <tbody>\n",
       "    <tr>\n",
       "      <th>2020-12-04</th>\n",
       "      <td>0.000158</td>\n",
       "      <td>0.000162</td>\n",
       "      <td>0.000150</td>\n",
       "      <td>0.000153</td>\n",
       "      <td>2689122.38</td>\n",
       "      <td>423.241158</td>\n",
       "    </tr>\n",
       "    <tr>\n",
       "      <th>2020-12-05</th>\n",
       "      <td>0.000153</td>\n",
       "      <td>0.000157</td>\n",
       "      <td>0.000152</td>\n",
       "      <td>0.000157</td>\n",
       "      <td>1600804.67</td>\n",
       "      <td>246.738748</td>\n",
       "    </tr>\n",
       "    <tr>\n",
       "      <th>2020-12-06</th>\n",
       "      <td>0.000157</td>\n",
       "      <td>0.000158</td>\n",
       "      <td>0.000154</td>\n",
       "      <td>0.000155</td>\n",
       "      <td>963162.44</td>\n",
       "      <td>149.248616</td>\n",
       "    </tr>\n",
       "    <tr>\n",
       "      <th>2020-12-07</th>\n",
       "      <td>0.000155</td>\n",
       "      <td>0.000156</td>\n",
       "      <td>0.000153</td>\n",
       "      <td>0.000154</td>\n",
       "      <td>1234626.51</td>\n",
       "      <td>190.720442</td>\n",
       "    </tr>\n",
       "    <tr>\n",
       "      <th>2020-12-08</th>\n",
       "      <td>0.000154</td>\n",
       "      <td>0.000154</td>\n",
       "      <td>0.000150</td>\n",
       "      <td>0.000153</td>\n",
       "      <td>1935977.94</td>\n",
       "      <td>294.488800</td>\n",
       "    </tr>\n",
       "    <tr>\n",
       "      <th>...</th>\n",
       "      <td>...</td>\n",
       "      <td>...</td>\n",
       "      <td>...</td>\n",
       "      <td>...</td>\n",
       "      <td>...</td>\n",
       "      <td>...</td>\n",
       "    </tr>\n",
       "    <tr>\n",
       "      <th>2021-03-12</th>\n",
       "      <td>0.000069</td>\n",
       "      <td>0.000070</td>\n",
       "      <td>0.000066</td>\n",
       "      <td>0.000066</td>\n",
       "      <td>4433265.61</td>\n",
       "      <td>300.109028</td>\n",
       "    </tr>\n",
       "    <tr>\n",
       "      <th>2021-03-13</th>\n",
       "      <td>0.000066</td>\n",
       "      <td>0.000072</td>\n",
       "      <td>0.000065</td>\n",
       "      <td>0.000070</td>\n",
       "      <td>4475482.78</td>\n",
       "      <td>304.383043</td>\n",
       "    </tr>\n",
       "    <tr>\n",
       "      <th>2021-03-14</th>\n",
       "      <td>0.000070</td>\n",
       "      <td>0.000072</td>\n",
       "      <td>0.000067</td>\n",
       "      <td>0.000067</td>\n",
       "      <td>3455669.25</td>\n",
       "      <td>236.825335</td>\n",
       "    </tr>\n",
       "    <tr>\n",
       "      <th>2021-03-15</th>\n",
       "      <td>0.000067</td>\n",
       "      <td>0.000069</td>\n",
       "      <td>0.000065</td>\n",
       "      <td>0.000069</td>\n",
       "      <td>4971908.73</td>\n",
       "      <td>334.720452</td>\n",
       "    </tr>\n",
       "    <tr>\n",
       "      <th>2021-03-16</th>\n",
       "      <td>0.000069</td>\n",
       "      <td>0.000069</td>\n",
       "      <td>0.000069</td>\n",
       "      <td>0.000069</td>\n",
       "      <td>21863.05</td>\n",
       "      <td>1.501624</td>\n",
       "    </tr>\n",
       "  </tbody>\n",
       "</table>\n",
       "<p>103 rows × 6 columns</p>\n",
       "</div>"
      ],
      "text/plain": [
       "                 open      high       low     close  Volume EOS  Volume BTC\n",
       "date                                                                       \n",
       "2020-12-04   0.000158  0.000162  0.000150  0.000153  2689122.38  423.241158\n",
       "2020-12-05   0.000153  0.000157  0.000152  0.000157  1600804.67  246.738748\n",
       "2020-12-06   0.000157  0.000158  0.000154  0.000155   963162.44  149.248616\n",
       "2020-12-07   0.000155  0.000156  0.000153  0.000154  1234626.51  190.720442\n",
       "2020-12-08   0.000154  0.000154  0.000150  0.000153  1935977.94  294.488800\n",
       "...               ...       ...       ...       ...         ...         ...\n",
       "2021-03-12   0.000069  0.000070  0.000066  0.000066  4433265.61  300.109028\n",
       "2021-03-13   0.000066  0.000072  0.000065  0.000070  4475482.78  304.383043\n",
       "2021-03-14   0.000070  0.000072  0.000067  0.000067  3455669.25  236.825335\n",
       "2021-03-15   0.000067  0.000069  0.000065  0.000069  4971908.73  334.720452\n",
       "2021-03-16   0.000069  0.000069  0.000069  0.000069    21863.05    1.501624\n",
       "\n",
       "[103 rows x 6 columns]"
      ]
     },
     "execution_count": 13,
     "metadata": {},
     "output_type": "execute_result"
    }
   ],
   "source": [
    "df2"
   ]
  },
  {
   "cell_type": "markdown",
   "metadata": {},
   "source": [
    "\n",
    "## Plot data"
   ]
  },
  {
   "cell_type": "code",
   "execution_count": 14,
   "metadata": {},
   "outputs": [],
   "source": [
    "import matplotlib.ticker as ticker\n",
    "def plot_time_series(dataframe, X, Y):\n",
    "    sns.set_theme(style=\"darkgrid\")\n",
    "    # build the figure\n",
    "    fig, ax = plt.subplots()\n",
    "    sns.lineplot(data=dataframe, x=X, y=Y)\n",
    "\n",
    "    # assign locator and formatter for the xaxis ticks.\n",
    "    tick_spacing=20\n",
    "    ax.xaxis.set_major_locator(ticker.MultipleLocator(tick_spacing))\n",
    "\n",
    "    # put the labels at 45deg since they tend to be too long\n",
    "    fig.autofmt_xdate()\n",
    "    plt.show()\n"
   ]
  },
  {
   "cell_type": "code",
   "execution_count": 15,
   "metadata": {},
   "outputs": [
    {
     "data": {
      "image/png": "[encoded data removed]",
      "text/plain": [
       "<Figure size 432x288 with 1 Axes>"
      ]
     },
     "metadata": {},
     "output_type": "display_data"
    }
   ],
   "source": [
    "plot_time_series(df2,'date','high')"
   ]
  },
  {
   "cell_type": "code",
   "execution_count": 16,
   "metadata": {},
   "outputs": [
    {
     "data": {
      "image/png": "[encoded data removed]",
      "text/plain": [
       "<Figure size 432x288 with 1 Axes>"
      ]
     },
     "metadata": {},
     "output_type": "display_data"
    }
   ],
   "source": [
    "plot_time_series(df2,'date','Volume BTC')"
   ]
  },
  {
   "cell_type": "markdown",
   "metadata": {},
   "source": [
    "## Backtesting"
   ]
  },
  {
   "cell_type": "code",
   "execution_count": 17,
   "metadata": {},
   "outputs": [
    {
     "name": "stdout",
     "output_type": "stream",
     "text": [
      "\n",
      "OPEN LONG POSITION price open operation :  2020-12-15  price EOSBTC open operation : 0.0001473\n",
      "CLOSE LONG POSITION equity: 10035.0 price EOSBTC close operation : 0.0001333  at  2020-12-17   gain:  35.0 $\n",
      "\n",
      "OPEN LONG POSITION price open operation :  2020-12-18  price EOSBTC open operation : 0.0001324\n",
      "CLOSE LONG POSITION equity: 10045.54 price EOSBTC close operation : 0.0001282  at  2020-12-19   gain:  10.537 $\n",
      "\n",
      "OPEN LONG POSITION price open operation :  2020-12-22  price EOSBTC open operation : 0.0001218\n",
      "CLOSE LONG POSITION equity: 10101.04 price EOSBTC close operation : 9.97e-05  at  2020-12-23   gain:  55.502 $\n",
      "\n",
      "OPEN LONG POSITION price open operation :  2020-12-24  price EOSBTC open operation : 0.0001124\n",
      "CLOSE LONG POSITION equity: 10112.4 price EOSBTC close operation : 0.0001079  at  2020-12-25   gain:  11.364 $\n",
      "\n",
      "OPEN LONG POSITION price open operation :  2020-12-26  price EOSBTC open operation : 9.86e-05\n",
      "CLOSE LONG POSITION equity: 10100.27 price EOSBTC close operation : 0.0001034  at  2020-12-27   gain:  -12.135 $\n",
      "\n",
      "OPEN LONG POSITION price open operation :  2020-12-29  price EOSBTC open operation : 9.64e-05\n",
      "CLOSE LONG POSITION equity: 10115.42 price EOSBTC close operation : 9.04e-05  at  2020-12-30   gain:  15.15 $\n",
      "\n",
      "OPEN LONG POSITION price open operation :  2020-12-31  price EOSBTC open operation : 8.95e-05\n",
      "CLOSE LONG POSITION equity: 10134.89 price EOSBTC close operation : 8.18e-05  at  2021-01-02   gain:  19.472 $\n",
      "\n",
      "OPEN LONG POSITION price open operation :  2021-01-03  price EOSBTC open operation : 8.48e-05\n",
      "CLOSE LONG POSITION equity: 10126.78 price EOSBTC close operation : 8.8e-05  at  2021-01-04   gain:  -8.108 $\n",
      "\n",
      "OPEN LONG POSITION price open operation :  2021-01-07  price EOSBTC open operation : 8.11e-05\n",
      "CLOSE LONG POSITION equity: 10138.17 price EOSBTC close operation : 7.66e-05  at  2021-01-08   gain:  11.393 $\n",
      "\n",
      "OPEN LONG POSITION price open operation :  2021-01-11  price EOSBTC open operation : 7.54e-05\n",
      "CLOSE LONG POSITION equity: 10132.34 price EOSBTC close operation : 7.77e-05  at  2021-01-19   gain:  -5.829 $\n",
      "\n",
      "OPEN LONG POSITION price open operation :  2021-01-25  price EOSBTC open operation : 8.21e-05\n",
      "CLOSE LONG POSITION equity: 10123.73 price EOSBTC close operation : 8.55e-05  at  2021-01-30   gain:  -8.612 $\n",
      "\n",
      "OPEN LONG POSITION price open operation :  2021-02-02  price EOSBTC open operation : 8.45e-05\n",
      "CLOSE LONG POSITION equity: 10118.67 price EOSBTC close operation : 8.65e-05  at  2021-02-05   gain:  -5.062 $\n",
      "\n",
      "OPEN LONG POSITION price open operation :  2021-02-08  price EOSBTC open operation : 7.75e-05\n",
      "CLOSE LONG POSITION equity: 10087.56 price EOSBTC close operation : 8.98e-05  at  2021-02-09   gain:  -31.115 $\n",
      "\n",
      "OPEN LONG POSITION price open operation :  2021-02-15  price EOSBTC open operation : 9.83e-05\n",
      "CLOSE LONG POSITION equity: 10101.17 price EOSBTC close operation : 9.29e-05  at  2021-02-17   gain:  13.618 $\n",
      "\n",
      "OPEN LONG POSITION price open operation :  2021-02-18  price EOSBTC open operation : 9.34e-05\n",
      "CLOSE LONG POSITION equity: 10118.09 price EOSBTC close operation : 8.67e-05  at  2021-02-20   gain:  16.919 $\n",
      "\n",
      "OPEN LONG POSITION price open operation :  2021-02-21  price EOSBTC open operation : 8.89e-05\n",
      "CLOSE LONG POSITION equity: 10143.89 price EOSBTC close operation : 7.87e-05  at  2021-02-23   gain:  25.801 $\n",
      "\n",
      "OPEN LONG POSITION price open operation :  2021-02-24  price EOSBTC open operation : 7.84e-05\n",
      "CLOSE LONG POSITION equity: 10161.65 price EOSBTC close operation : 7.14e-05  at  2021-03-10   gain:  17.752 $\n",
      "\n",
      "OPEN LONG POSITION price open operation :  2021-03-11  price EOSBTC open operation : 6.84e-05\n",
      "[11, 14, 18, 20, 22, 25, 27, 30, 34, 38, 52, 60, 66, 73, 76, 79, 82, 97]\n",
      "[13, 15, 19, 21, 23, 26, 29, 31, 35, 46, 57, 63, 67, 75, 78, 81, 96]\n"
     ]
    },
    {
     "data": {
      "image/png": "[encoded data removed]",
      "text/plain": [
       "<Figure size 864x720 with 3 Axes>"
      ]
     },
     "metadata": {},
     "output_type": "display_data"
    },
    {
     "data": {
      "image/png": "[encoded data removed]",
      "text/plain": [
       "<Figure size 864x360 with 1 Axes>"
      ]
     },
     "metadata": {},
     "output_type": "display_data"
    }
   ],
   "source": [
    "take_profit = 0.001 # % take profit\n",
    "stop_loss = 0.0005 # % stop loss\n",
    "cap = 10_000  # capital\n",
    "laverage = 250 # laverage\n",
    "\n",
    "plot_open_signal=[] # open signal\n",
    "plot_close_signal=[] # close signal\n",
    "equity_history=[]\n",
    "\n",
    "def backtest(df, capital):\n",
    "    initial_capital = capital\n",
    "    open_operation = False\n",
    "    buffer_period=10\n",
    "    \n",
    "    for idx in range(len(df)):\n",
    "        Date = df.index[idx]\n",
    "        Open = df['open'].iloc[idx]\n",
    "        High = df['high'].iloc[idx]\n",
    "        Low  = df['low'].iloc[idx]\n",
    "        Close  = df['close'].iloc[idx]\n",
    "        \n",
    "        if int(idx) > buffer_period and int(idx) < len(df.values)-1:  # buffer\n",
    "            \n",
    "            if open_operation==False and Close < df['close'].iloc[idx-2]:\n",
    "                open_operation = True\n",
    "                open_price = Close\n",
    "                print('\\nOPEN LONG POSITION price open operation : ',Date,'price EOSBTC open operation :',round(Close,8))\n",
    "                plot_open_signal.append(idx)\n",
    "\n",
    "            actual_price = Close\n",
    "                                \n",
    "            if open_operation==True: # LONG / BUY\n",
    "                gain = (open_price - actual_price)*capital*laverage      \n",
    "                real_TP = take_profit*capital\n",
    "                real_SL = stop_loss*capital\n",
    "                #print(gain,real_TP,real_SL)\n",
    "                \n",
    "                if (gain > real_TP or gain < -real_SL): # Close position \n",
    "                    capital += gain\n",
    "                    open_operation = False\n",
    "                    print('CLOSE LONG POSITION equity:', round(capital,2),'price EOSBTC close operation :',round(Close,10),' at ',Date, ' gain: ',round(gain,3),'$')\n",
    "                    plot_close_signal.append(idx)\n",
    "            equity_history.append(capital)\n",
    "    \n",
    "    \n",
    "    \n",
    "    f, (ax1, ax2, ax3) = plt.subplots(3, 1, sharey=True)\n",
    "    f.set_figheight(10)\n",
    "    f.set_figwidth(12)\n",
    "\n",
    "    print(plot_open_signal)\n",
    "    print(plot_close_signal)\n",
    "    \n",
    "    # OPEN SIGNAL\n",
    "    ax1.vlines(plot_open_signal,ymin=0,ymax=1,colors='green')\n",
    "    ax1.set_title('open signal')\n",
    "\n",
    "    ax1.set_ylim(0, 1)\n",
    "    ax1.set_xlim(0,max(plot_open_signal)+5)\n",
    "    x_axis1 = ax1.axes.get_xaxis()\n",
    "    x_axis1.set_visible(False)\n",
    "    y_axis1 = ax1.axes.get_yaxis()\n",
    "    y_axis1.set_visible(False)\n",
    "    \n",
    "    # CLOSE SIGNAL\n",
    "    ax2.vlines(plot_close_signal,ymin=0,ymax=1,colors='red')\n",
    "    ax2.set_title('close signal')\n",
    "    x_axis2 = ax2.axes.get_xaxis()    \n",
    "    x_axis2.set_visible(False)\n",
    "    y_axis2 = ax2.axes.get_yaxis()\n",
    "    y_axis2.set_visible(False)\n",
    "    ax2.set_ylim(0, 1)\n",
    "    ax2.set_xlim(0,max(plot_open_signal)+5)\n",
    "    \n",
    "    \n",
    "    # PRICES\n",
    "    ax3.plot(df.index, df.close)\n",
    "    ax3.set_title('EOS/BTC')\n",
    "    ax3.set_xticks(df.index[::5])\n",
    "    ax3.set_xticklabels(df.index[::5], rotation=45)\n",
    "    ax3.set_ylim(min(df.close)*0.97, max(df.close)*1.03)\n",
    "\n",
    "    \n",
    "    plt.show()\n",
    "    \n",
    "    return equity_history                    \n",
    "\n",
    "\n",
    "def plot_equity(equity_history):\n",
    "    f, ax1 = plt.subplots(1, 1, sharey=True)\n",
    "    f.set_figheight(5)\n",
    "    f.set_figwidth(12)\n",
    "    plt.plot(equity_history)\n",
    "    plt.title('Equity')\n",
    "    plt.show()\n",
    "    \n",
    "equity = backtest(df2,capital=cap)\n",
    "plot_equity(equity)"
   ]
  },
  {
   "cell_type": "code",
   "execution_count": null,
   "metadata": {},
   "outputs": [],
   "source": []
  }
 ],
 "metadata": {
  "interpreter": {
   "hash": "a200b608eaada0217b55902bbdd04a4af6fe488799d5bd9b93c081bbaf19c2e5"
  },
  "kernelspec": {
   "display_name": "Python 3",
   "language": "python",
   "name": "python3"
  },
  "language_info": {
   "codemirror_mode": {
    "name": "ipython",
    "version": 3
   },
   "file_extension": ".py",
   "mimetype": "text/x-python",
   "name": "python",
   "nbconvert_exporter": "python",
   "pygments_lexer": "ipython3",
   "version": "3.8.10"
  }
 },
 "nbformat": 4,
 "nbformat_minor": 4
}
